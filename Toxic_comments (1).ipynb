{
  "nbformat": 4,
  "nbformat_minor": 0,
  "metadata": {
    "colab": {
      "name": "Toxic_comments.ipynb",
      "provenance": [],
      "collapsed_sections": [
        "wHGeteTt_Osb"
      ],
      "toc_visible": true
    },
    "kernelspec": {
      "name": "python3",
      "display_name": "Python 3"
    },
    "accelerator": "GPU",
    "widgets": {
      "application/vnd.jupyter.widget-state+json": {
        "c9db17d9cf9a421d959f64d03b58d02f": {
          "model_module": "@jupyter-widgets/controls",
          "model_name": "HBoxModel",
          "state": {
            "_view_name": "HBoxView",
            "_dom_classes": [],
            "_model_name": "HBoxModel",
            "_view_module": "@jupyter-widgets/controls",
            "_model_module_version": "1.5.0",
            "_view_count": null,
            "_view_module_version": "1.5.0",
            "box_style": "",
            "layout": "IPY_MODEL_be1d0594820a40028901f8ee91b9f28c",
            "_model_module": "@jupyter-widgets/controls",
            "children": [
              "IPY_MODEL_bf8475954904413cb9e14f4cb676c49d",
              "IPY_MODEL_29716a38afd3421594828b38c0611f08"
            ]
          }
        },
        "be1d0594820a40028901f8ee91b9f28c": {
          "model_module": "@jupyter-widgets/base",
          "model_name": "LayoutModel",
          "state": {
            "_view_name": "LayoutView",
            "grid_template_rows": null,
            "right": null,
            "justify_content": null,
            "_view_module": "@jupyter-widgets/base",
            "overflow": null,
            "_model_module_version": "1.2.0",
            "_view_count": null,
            "flex_flow": null,
            "width": null,
            "min_width": null,
            "border": null,
            "align_items": null,
            "bottom": null,
            "_model_module": "@jupyter-widgets/base",
            "top": null,
            "grid_column": null,
            "overflow_y": null,
            "overflow_x": null,
            "grid_auto_flow": null,
            "grid_area": null,
            "grid_template_columns": null,
            "flex": null,
            "_model_name": "LayoutModel",
            "justify_items": null,
            "grid_row": null,
            "max_height": null,
            "align_content": null,
            "visibility": null,
            "align_self": null,
            "height": null,
            "min_height": null,
            "padding": null,
            "grid_auto_rows": null,
            "grid_gap": null,
            "max_width": null,
            "order": null,
            "_view_module_version": "1.2.0",
            "grid_template_areas": null,
            "object_position": null,
            "object_fit": null,
            "grid_auto_columns": null,
            "margin": null,
            "display": null,
            "left": null
          }
        },
        "bf8475954904413cb9e14f4cb676c49d": {
          "model_module": "@jupyter-widgets/controls",
          "model_name": "FloatProgressModel",
          "state": {
            "_view_name": "ProgressView",
            "style": "IPY_MODEL_7af2d87a450249a285a94a5aaa37c151",
            "_dom_classes": [],
            "description": "100%",
            "_model_name": "FloatProgressModel",
            "bar_style": "success",
            "max": 3199,
            "_view_module": "@jupyter-widgets/controls",
            "_model_module_version": "1.5.0",
            "value": 3199,
            "_view_count": null,
            "_view_module_version": "1.5.0",
            "orientation": "horizontal",
            "min": 0,
            "description_tooltip": null,
            "_model_module": "@jupyter-widgets/controls",
            "layout": "IPY_MODEL_e32708d643ba41d1ae76ec01229d47e8"
          }
        },
        "29716a38afd3421594828b38c0611f08": {
          "model_module": "@jupyter-widgets/controls",
          "model_name": "HTMLModel",
          "state": {
            "_view_name": "HTMLView",
            "style": "IPY_MODEL_8279e4b5c9f54eada9a518a35e1ed17e",
            "_dom_classes": [],
            "description": "",
            "_model_name": "HTMLModel",
            "placeholder": "​",
            "_view_module": "@jupyter-widgets/controls",
            "_model_module_version": "1.5.0",
            "value": " 3199/3199 [09:48&lt;00:00,  5.44it/s]",
            "_view_count": null,
            "_view_module_version": "1.5.0",
            "description_tooltip": null,
            "_model_module": "@jupyter-widgets/controls",
            "layout": "IPY_MODEL_6ae7434959364a7eadffc467a49b2786"
          }
        },
        "7af2d87a450249a285a94a5aaa37c151": {
          "model_module": "@jupyter-widgets/controls",
          "model_name": "ProgressStyleModel",
          "state": {
            "_view_name": "StyleView",
            "_model_name": "ProgressStyleModel",
            "description_width": "initial",
            "_view_module": "@jupyter-widgets/base",
            "_model_module_version": "1.5.0",
            "_view_count": null,
            "_view_module_version": "1.2.0",
            "bar_color": null,
            "_model_module": "@jupyter-widgets/controls"
          }
        },
        "e32708d643ba41d1ae76ec01229d47e8": {
          "model_module": "@jupyter-widgets/base",
          "model_name": "LayoutModel",
          "state": {
            "_view_name": "LayoutView",
            "grid_template_rows": null,
            "right": null,
            "justify_content": null,
            "_view_module": "@jupyter-widgets/base",
            "overflow": null,
            "_model_module_version": "1.2.0",
            "_view_count": null,
            "flex_flow": null,
            "width": null,
            "min_width": null,
            "border": null,
            "align_items": null,
            "bottom": null,
            "_model_module": "@jupyter-widgets/base",
            "top": null,
            "grid_column": null,
            "overflow_y": null,
            "overflow_x": null,
            "grid_auto_flow": null,
            "grid_area": null,
            "grid_template_columns": null,
            "flex": null,
            "_model_name": "LayoutModel",
            "justify_items": null,
            "grid_row": null,
            "max_height": null,
            "align_content": null,
            "visibility": null,
            "align_self": null,
            "height": null,
            "min_height": null,
            "padding": null,
            "grid_auto_rows": null,
            "grid_gap": null,
            "max_width": null,
            "order": null,
            "_view_module_version": "1.2.0",
            "grid_template_areas": null,
            "object_position": null,
            "object_fit": null,
            "grid_auto_columns": null,
            "margin": null,
            "display": null,
            "left": null
          }
        },
        "8279e4b5c9f54eada9a518a35e1ed17e": {
          "model_module": "@jupyter-widgets/controls",
          "model_name": "DescriptionStyleModel",
          "state": {
            "_view_name": "StyleView",
            "_model_name": "DescriptionStyleModel",
            "description_width": "",
            "_view_module": "@jupyter-widgets/base",
            "_model_module_version": "1.5.0",
            "_view_count": null,
            "_view_module_version": "1.2.0",
            "_model_module": "@jupyter-widgets/controls"
          }
        },
        "6ae7434959364a7eadffc467a49b2786": {
          "model_module": "@jupyter-widgets/base",
          "model_name": "LayoutModel",
          "state": {
            "_view_name": "LayoutView",
            "grid_template_rows": null,
            "right": null,
            "justify_content": null,
            "_view_module": "@jupyter-widgets/base",
            "overflow": null,
            "_model_module_version": "1.2.0",
            "_view_count": null,
            "flex_flow": null,
            "width": null,
            "min_width": null,
            "border": null,
            "align_items": null,
            "bottom": null,
            "_model_module": "@jupyter-widgets/base",
            "top": null,
            "grid_column": null,
            "overflow_y": null,
            "overflow_x": null,
            "grid_auto_flow": null,
            "grid_area": null,
            "grid_template_columns": null,
            "flex": null,
            "_model_name": "LayoutModel",
            "justify_items": null,
            "grid_row": null,
            "max_height": null,
            "align_content": null,
            "visibility": null,
            "align_self": null,
            "height": null,
            "min_height": null,
            "padding": null,
            "grid_auto_rows": null,
            "grid_gap": null,
            "max_width": null,
            "order": null,
            "_view_module_version": "1.2.0",
            "grid_template_areas": null,
            "object_position": null,
            "object_fit": null,
            "grid_auto_columns": null,
            "margin": null,
            "display": null,
            "left": null
          }
        }
      }
    }
  },
  "cells": [
    {
      "cell_type": "code",
      "metadata": {
        "colab": {
          "base_uri": "https://localhost:8080/"
        },
        "id": "_S15MwIaxA--",
        "outputId": "bbed32ef-a40c-433f-d433-94f7ddc0eb7f"
      },
      "source": [
        "!pip install transformers"
      ],
      "execution_count": 1,
      "outputs": [
        {
          "output_type": "stream",
          "text": [
            "Requirement already satisfied: transformers in /usr/local/lib/python3.7/dist-packages (4.4.2)\n",
            "Requirement already satisfied: requests in /usr/local/lib/python3.7/dist-packages (from transformers) (2.23.0)\n",
            "Requirement already satisfied: tokenizers<0.11,>=0.10.1 in /usr/local/lib/python3.7/dist-packages (from transformers) (0.10.1)\n",
            "Requirement already satisfied: tqdm>=4.27 in /usr/local/lib/python3.7/dist-packages (from transformers) (4.41.1)\n",
            "Requirement already satisfied: numpy>=1.17 in /usr/local/lib/python3.7/dist-packages (from transformers) (1.19.5)\n",
            "Requirement already satisfied: filelock in /usr/local/lib/python3.7/dist-packages (from transformers) (3.0.12)\n",
            "Requirement already satisfied: sacremoses in /usr/local/lib/python3.7/dist-packages (from transformers) (0.0.43)\n",
            "Requirement already satisfied: importlib-metadata; python_version < \"3.8\" in /usr/local/lib/python3.7/dist-packages (from transformers) (3.7.2)\n",
            "Requirement already satisfied: regex!=2019.12.17 in /usr/local/lib/python3.7/dist-packages (from transformers) (2019.12.20)\n",
            "Requirement already satisfied: packaging in /usr/local/lib/python3.7/dist-packages (from transformers) (20.9)\n",
            "Requirement already satisfied: chardet<4,>=3.0.2 in /usr/local/lib/python3.7/dist-packages (from requests->transformers) (3.0.4)\n",
            "Requirement already satisfied: certifi>=2017.4.17 in /usr/local/lib/python3.7/dist-packages (from requests->transformers) (2020.12.5)\n",
            "Requirement already satisfied: urllib3!=1.25.0,!=1.25.1,<1.26,>=1.21.1 in /usr/local/lib/python3.7/dist-packages (from requests->transformers) (1.24.3)\n",
            "Requirement already satisfied: idna<3,>=2.5 in /usr/local/lib/python3.7/dist-packages (from requests->transformers) (2.10)\n",
            "Requirement already satisfied: click in /usr/local/lib/python3.7/dist-packages (from sacremoses->transformers) (7.1.2)\n",
            "Requirement already satisfied: joblib in /usr/local/lib/python3.7/dist-packages (from sacremoses->transformers) (1.0.1)\n",
            "Requirement already satisfied: six in /usr/local/lib/python3.7/dist-packages (from sacremoses->transformers) (1.15.0)\n",
            "Requirement already satisfied: zipp>=0.5 in /usr/local/lib/python3.7/dist-packages (from importlib-metadata; python_version < \"3.8\"->transformers) (3.4.1)\n",
            "Requirement already satisfied: typing-extensions>=3.6.4; python_version < \"3.8\" in /usr/local/lib/python3.7/dist-packages (from importlib-metadata; python_version < \"3.8\"->transformers) (3.7.4.3)\n",
            "Requirement already satisfied: pyparsing>=2.0.2 in /usr/local/lib/python3.7/dist-packages (from packaging->transformers) (2.4.7)\n"
          ],
          "name": "stdout"
        }
      ]
    },
    {
      "cell_type": "code",
      "metadata": {
        "colab": {
          "base_uri": "https://localhost:8080/"
        },
        "id": "G9fvxES6RKtO",
        "outputId": "c3b69441-7fc8-46c1-d513-5e680a380c52"
      },
      "source": [
        "!pip install catboost"
      ],
      "execution_count": 2,
      "outputs": [
        {
          "output_type": "stream",
          "text": [
            "Requirement already satisfied: catboost in /usr/local/lib/python3.7/dist-packages (0.25)\n",
            "Requirement already satisfied: plotly in /usr/local/lib/python3.7/dist-packages (from catboost) (4.4.1)\n",
            "Requirement already satisfied: six in /usr/local/lib/python3.7/dist-packages (from catboost) (1.15.0)\n",
            "Requirement already satisfied: numpy>=1.16.0 in /usr/local/lib/python3.7/dist-packages (from catboost) (1.19.5)\n",
            "Requirement already satisfied: graphviz in /usr/local/lib/python3.7/dist-packages (from catboost) (0.10.1)\n",
            "Requirement already satisfied: scipy in /usr/local/lib/python3.7/dist-packages (from catboost) (1.4.1)\n",
            "Requirement already satisfied: matplotlib in /usr/local/lib/python3.7/dist-packages (from catboost) (3.2.2)\n",
            "Requirement already satisfied: pandas>=0.24.0 in /usr/local/lib/python3.7/dist-packages (from catboost) (1.1.5)\n",
            "Requirement already satisfied: retrying>=1.3.3 in /usr/local/lib/python3.7/dist-packages (from plotly->catboost) (1.3.3)\n",
            "Requirement already satisfied: cycler>=0.10 in /usr/local/lib/python3.7/dist-packages (from matplotlib->catboost) (0.10.0)\n",
            "Requirement already satisfied: kiwisolver>=1.0.1 in /usr/local/lib/python3.7/dist-packages (from matplotlib->catboost) (1.3.1)\n",
            "Requirement already satisfied: pyparsing!=2.0.4,!=2.1.2,!=2.1.6,>=2.0.1 in /usr/local/lib/python3.7/dist-packages (from matplotlib->catboost) (2.4.7)\n",
            "Requirement already satisfied: python-dateutil>=2.1 in /usr/local/lib/python3.7/dist-packages (from matplotlib->catboost) (2.8.1)\n",
            "Requirement already satisfied: pytz>=2017.2 in /usr/local/lib/python3.7/dist-packages (from pandas>=0.24.0->catboost) (2018.9)\n"
          ],
          "name": "stdout"
        }
      ]
    },
    {
      "cell_type": "markdown",
      "metadata": {
        "id": "BHM2s25lxtue"
      },
      "source": [
        "<a id='К_оглавлению'></a>\n",
        "\n",
        "# Проект для «Викишоп» c BERT\n",
        "\n",
        "---\n",
        "\n",
        "Интернет-магазин «Викишоп» запускает новый сервис. Теперь пользователи могут редактировать и дополнять описания товаров, как в вики-сообществах. То есть клиенты предлагают свои правки и комментируют изменения других. Магазину нужен инструмент, который будет искать токсичные комментарии и отправлять их на модерацию. \n",
        "\n",
        "Обучите модель классифицировать комментарии на позитивные и негативные. В вашем распоряжении набор данных с разметкой о токсичности правок.\n",
        "\n",
        "Постройте модель со значением метрики качества *F1* не меньше 0.75. \n",
        "\n",
        "**Инструкция по выполнению проекта**\n",
        "\n",
        "1. Загрузите и подготовьте данные.\n",
        "2. Обучите разные модели. \n",
        "3. Сделайте выводы.\n",
        "\n",
        "Для выполнения проекта применять *BERT* необязательно, но вы можете попробовать.\n",
        "\n",
        "**Описание данных**\n",
        "\n",
        "Данные находятся в файле `toxic_comments.csv`. Столбец *text* в нём содержит текст комментария, а *toxic* — целевой признак.\n",
        "\n",
        "---\n",
        "\n",
        "### Разделим данное исследование на несколько частей:\n",
        "\n",
        "* [Загрузка необходимых библиотек и предобработка](#Загрузка_необходимых_библиотек_и_предобработка)\n",
        "* [BERT](#BERT)\n",
        "* [Загрузка и обучение моделей](#Загрузка_и_обучение_моделей)\n",
        "* [Обучение на CatboostClassifier](#Обучение_на_CatboostClassifier)\n",
        "\n",
        "---\n",
        "\n",
        "<a id='Загрузка_необходимых_библиотек_и_предобработка'></a>\n",
        "### Загрузка необходимых библиотек и предобработка\n",
        "Загрузим неободимые библиотеки."
      ]
    },
    {
      "cell_type": "code",
      "metadata": {
        "id": "8sJIKAYgvfZC"
      },
      "source": [
        "import numpy as np\n",
        "import pandas as pd\n",
        "import matplotlib.pyplot as plt\n",
        "\n",
        "from sklearn.model_selection import train_test_split, GridSearchCV\n",
        "from sklearn.metrics import f1_score\n",
        "\n",
        "from sklearn.linear_model import LogisticRegression\n",
        "from catboost import CatBoostClassifier\n",
        "import lightgbm as lgb\n",
        "\n",
        "import re\n",
        "import torch\n",
        "import transformers as ppb\n",
        "from tqdm import notebook \n",
        "import warnings"
      ],
      "execution_count": 3,
      "outputs": []
    },
    {
      "cell_type": "markdown",
      "metadata": {
        "id": "CejJC5QS3xLu"
      },
      "source": [
        "Для ускорения работы я буду работать с помощью *GPU*. Включим его в **GoogleColab** И убедимся, что он работает."
      ]
    },
    {
      "cell_type": "code",
      "metadata": {
        "id": "j0o4VGFfwjGN",
        "colab": {
          "base_uri": "https://localhost:8080/"
        },
        "outputId": "47a7de9e-8a7b-4677-ebe2-9926d853914d"
      },
      "source": [
        "%tensorflow_version 2.x\n",
        "import tensorflow as tf\n",
        "device_name = tf.test.gpu_device_name()\n",
        "if device_name != '/device:GPU:0':\n",
        "  raise SystemError('GPU device not found')\n",
        "print('Found GPU at: {}'.format(device_name))"
      ],
      "execution_count": 4,
      "outputs": [
        {
          "output_type": "stream",
          "text": [
            "Found GPU at: /device:GPU:0\n"
          ],
          "name": "stdout"
        }
      ]
    },
    {
      "cell_type": "markdown",
      "metadata": {
        "id": "7UNNaGXj4Rbn"
      },
      "source": [
        "Загрузим таблицу и изучим ее."
      ]
    },
    {
      "cell_type": "code",
      "metadata": {
        "id": "ZugpB9fzvjuz"
      },
      "source": [
        "df = pd.read_csv('/content/drive/MyDrive/toxic_comments.csv')"
      ],
      "execution_count": 5,
      "outputs": []
    },
    {
      "cell_type": "code",
      "metadata": {
        "id": "uHFPHxwdvwWl",
        "colab": {
          "base_uri": "https://localhost:8080/",
          "height": 197
        },
        "outputId": "ae4ab700-0daf-4159-f9c6-508c6a8a4bd1"
      },
      "source": [
        "df.head()"
      ],
      "execution_count": 6,
      "outputs": [
        {
          "output_type": "execute_result",
          "data": {
            "text/html": [
              "<div>\n",
              "<style scoped>\n",
              "    .dataframe tbody tr th:only-of-type {\n",
              "        vertical-align: middle;\n",
              "    }\n",
              "\n",
              "    .dataframe tbody tr th {\n",
              "        vertical-align: top;\n",
              "    }\n",
              "\n",
              "    .dataframe thead th {\n",
              "        text-align: right;\n",
              "    }\n",
              "</style>\n",
              "<table border=\"1\" class=\"dataframe\">\n",
              "  <thead>\n",
              "    <tr style=\"text-align: right;\">\n",
              "      <th></th>\n",
              "      <th>text</th>\n",
              "      <th>toxic</th>\n",
              "    </tr>\n",
              "  </thead>\n",
              "  <tbody>\n",
              "    <tr>\n",
              "      <th>0</th>\n",
              "      <td>Explanation\\nWhy the edits made under my usern...</td>\n",
              "      <td>0</td>\n",
              "    </tr>\n",
              "    <tr>\n",
              "      <th>1</th>\n",
              "      <td>D'aww! He matches this background colour I'm s...</td>\n",
              "      <td>0</td>\n",
              "    </tr>\n",
              "    <tr>\n",
              "      <th>2</th>\n",
              "      <td>Hey man, I'm really not trying to edit war. It...</td>\n",
              "      <td>0</td>\n",
              "    </tr>\n",
              "    <tr>\n",
              "      <th>3</th>\n",
              "      <td>\"\\nMore\\nI can't make any real suggestions on ...</td>\n",
              "      <td>0</td>\n",
              "    </tr>\n",
              "    <tr>\n",
              "      <th>4</th>\n",
              "      <td>You, sir, are my hero. Any chance you remember...</td>\n",
              "      <td>0</td>\n",
              "    </tr>\n",
              "  </tbody>\n",
              "</table>\n",
              "</div>"
            ],
            "text/plain": [
              "                                                text  toxic\n",
              "0  Explanation\\nWhy the edits made under my usern...      0\n",
              "1  D'aww! He matches this background colour I'm s...      0\n",
              "2  Hey man, I'm really not trying to edit war. It...      0\n",
              "3  \"\\nMore\\nI can't make any real suggestions on ...      0\n",
              "4  You, sir, are my hero. Any chance you remember...      0"
            ]
          },
          "metadata": {
            "tags": []
          },
          "execution_count": 6
        }
      ]
    },
    {
      "cell_type": "code",
      "metadata": {
        "id": "B5LUufn9vmsz",
        "colab": {
          "base_uri": "https://localhost:8080/"
        },
        "outputId": "6ef4edef-7c06-4965-b41e-7f15698606ff"
      },
      "source": [
        "df.info()"
      ],
      "execution_count": 7,
      "outputs": [
        {
          "output_type": "stream",
          "text": [
            "<class 'pandas.core.frame.DataFrame'>\n",
            "RangeIndex: 159571 entries, 0 to 159570\n",
            "Data columns (total 2 columns):\n",
            " #   Column  Non-Null Count   Dtype \n",
            "---  ------  --------------   ----- \n",
            " 0   text    159571 non-null  object\n",
            " 1   toxic   159571 non-null  int64 \n",
            "dtypes: int64(1), object(1)\n",
            "memory usage: 2.4+ MB\n"
          ],
          "name": "stdout"
        }
      ]
    },
    {
      "cell_type": "code",
      "metadata": {
        "id": "x4N0zXXRvrqj",
        "colab": {
          "base_uri": "https://localhost:8080/"
        },
        "outputId": "ca63f19a-44d3-4935-c96c-d89a77930cb3"
      },
      "source": [
        "df.isnull().sum()"
      ],
      "execution_count": 8,
      "outputs": [
        {
          "output_type": "execute_result",
          "data": {
            "text/plain": [
              "text     0\n",
              "toxic    0\n",
              "dtype: int64"
            ]
          },
          "metadata": {
            "tags": []
          },
          "execution_count": 8
        }
      ]
    },
    {
      "cell_type": "code",
      "metadata": {
        "id": "ggvlFmXvvtV1",
        "colab": {
          "base_uri": "https://localhost:8080/",
          "height": 278
        },
        "outputId": "b0ebd359-b92e-48c4-cec4-87fa1aa10b8a"
      },
      "source": [
        "df['toxic'].hist(bins=3, grid=False)\n",
        "plt.ylabel('Количество комментариев')\n",
        "plt.xlabel('Чистые и токсичные комментарии')\n",
        "plt.show()"
      ],
      "execution_count": 9,
      "outputs": [
        {
          "output_type": "display_data",
          "data": {
            "image/png": "[encoded data removed]",
            "text/plain": [
              "<Figure size 432x288 with 1 Axes>"
            ]
          },
          "metadata": {
            "tags": [],
            "needs_background": "light"
          }
        }
      ]
    },
    {
      "cell_type": "markdown",
      "metadata": {
        "id": "_4B_xN-A4ulS"
      },
      "source": [
        "В таблице очень сильный перевес классов в сторону положительныъ комментариев. Так же присутствуют символы на подобии `'\\n'`, которые усложнят обучение модели. Избавимся от них."
      ]
    },
    {
      "cell_type": "code",
      "metadata": {
        "id": "z5Tnr4GQvuto"
      },
      "source": [
        "df['text'] = df['text'].apply(lambda x: x.replace('\\n',' '))"
      ],
      "execution_count": 10,
      "outputs": []
    },
    {
      "cell_type": "markdown",
      "metadata": {
        "id": "6uX9AVJz5PH_"
      },
      "source": [
        "Теперь очистим текст от остальных символов с помощью *регулярных выражений*, а так же приведем весь текст к нижнему регистру."
      ]
    },
    {
      "cell_type": "code",
      "metadata": {
        "id": "KY8aKfNrpAAx"
      },
      "source": [
        " def clear(text):  \n",
        "    text = re.sub(r'[^a-zA-Z ]', ' ', text)\n",
        "    return ' '.join(text.split())"
      ],
      "execution_count": 11,
      "outputs": []
    },
    {
      "cell_type": "code",
      "metadata": {
        "id": "5LipY016pB42"
      },
      "source": [
        "df['text'] = pd.DataFrame(df['text'].apply(lambda x: clear(x)))"
      ],
      "execution_count": 12,
      "outputs": []
    },
    {
      "cell_type": "markdown",
      "metadata": {
        "id": "VJg0GZUwrK8-"
      },
      "source": [
        "Для того, что бы обучить модель корректно, нужно избавится от дисбаланса. Я воспользуюсь техникой **downsampling**. Копируем нашу таблицу, для работы с **BERT**."
      ]
    },
    {
      "cell_type": "code",
      "metadata": {
        "id": "j_IE_xDPaZ9B"
      },
      "source": [
        "bert_df = df.copy()"
      ],
      "execution_count": 13,
      "outputs": []
    },
    {
      "cell_type": "code",
      "metadata": {
        "colab": {
          "base_uri": "https://localhost:8080/"
        },
        "id": "nWWZ6kZuc1Ai",
        "outputId": "8e2a689e-dc72-4beb-f8c0-cf5ae1dd3c56"
      },
      "source": [
        "bert_df['toxic'].value_counts()"
      ],
      "execution_count": 14,
      "outputs": [
        {
          "output_type": "execute_result",
          "data": {
            "text/plain": [
              "0    143346\n",
              "1     16225\n",
              "Name: toxic, dtype: int64"
            ]
          },
          "metadata": {
            "tags": []
          },
          "execution_count": 14
        }
      ]
    },
    {
      "cell_type": "markdown",
      "metadata": {
        "id": "SWczGYs9sO5Q"
      },
      "source": [
        "Положительные комментарии почти в 10 раз привышают токсичные. Сократим чистые комментарии и реиндексируем таблицу."
      ]
    },
    {
      "cell_type": "code",
      "metadata": {
        "id": "Ouo3NBAja3dH"
      },
      "source": [
        "bert_df[bert_df['toxic']==0] = bert_df[bert_df['toxic']==0].sample(frac=0.11,random_state=42)"
      ],
      "execution_count": 15,
      "outputs": []
    },
    {
      "cell_type": "code",
      "metadata": {
        "id": "uXCQdHfAdfdb"
      },
      "source": [
        "bert_df = bert_df.dropna().reset_index(drop=True)\n",
        "bert_df['toxic'] = bert_df['toxic'].astype(int)"
      ],
      "execution_count": 16,
      "outputs": []
    },
    {
      "cell_type": "code",
      "metadata": {
        "colab": {
          "base_uri": "https://localhost:8080/"
        },
        "id": "zWX5u37XdqPN",
        "outputId": "894def9d-bdb8-4c2e-d225-402c7ffa4d10"
      },
      "source": [
        "bert_df['toxic'].value_counts()"
      ],
      "execution_count": 17,
      "outputs": [
        {
          "output_type": "execute_result",
          "data": {
            "text/plain": [
              "1    16225\n",
              "0    15768\n",
              "Name: toxic, dtype: int64"
            ]
          },
          "metadata": {
            "tags": []
          },
          "execution_count": 17
        }
      ]
    },
    {
      "cell_type": "code",
      "metadata": {
        "colab": {
          "base_uri": "https://localhost:8080/",
          "height": 197
        },
        "id": "XDEHBooAsmFu",
        "outputId": "4e5d942b-6125-4f1d-f4b2-d0f189db72f4"
      },
      "source": [
        "bert_df.head()"
      ],
      "execution_count": 18,
      "outputs": [
        {
          "output_type": "execute_result",
          "data": {
            "text/html": [
              "<div>\n",
              "<style scoped>\n",
              "    .dataframe tbody tr th:only-of-type {\n",
              "        vertical-align: middle;\n",
              "    }\n",
              "\n",
              "    .dataframe tbody tr th {\n",
              "        vertical-align: top;\n",
              "    }\n",
              "\n",
              "    .dataframe thead th {\n",
              "        text-align: right;\n",
              "    }\n",
              "</style>\n",
              "<table border=\"1\" class=\"dataframe\">\n",
              "  <thead>\n",
              "    <tr style=\"text-align: right;\">\n",
              "      <th></th>\n",
              "      <th>text</th>\n",
              "      <th>toxic</th>\n",
              "    </tr>\n",
              "  </thead>\n",
              "  <tbody>\n",
              "    <tr>\n",
              "      <th>0</th>\n",
              "      <td>Explanation Why the edits made under my userna...</td>\n",
              "      <td>0</td>\n",
              "    </tr>\n",
              "    <tr>\n",
              "      <th>1</th>\n",
              "      <td>You sir are my hero Any chance you remember wh...</td>\n",
              "      <td>0</td>\n",
              "    </tr>\n",
              "    <tr>\n",
              "      <th>2</th>\n",
              "      <td>COCKSUCKER BEFORE YOU PISS AROUND ON MY WORK</td>\n",
              "      <td>1</td>\n",
              "    </tr>\n",
              "    <tr>\n",
              "      <th>3</th>\n",
              "      <td>Hey what is it talk What is it an exclusive gr...</td>\n",
              "      <td>1</td>\n",
              "    </tr>\n",
              "    <tr>\n",
              "      <th>4</th>\n",
              "      <td>Bye Don t look come or think of comming back T...</td>\n",
              "      <td>1</td>\n",
              "    </tr>\n",
              "  </tbody>\n",
              "</table>\n",
              "</div>"
            ],
            "text/plain": [
              "                                                text  toxic\n",
              "0  Explanation Why the edits made under my userna...      0\n",
              "1  You sir are my hero Any chance you remember wh...      0\n",
              "2       COCKSUCKER BEFORE YOU PISS AROUND ON MY WORK      1\n",
              "3  Hey what is it talk What is it an exclusive gr...      1\n",
              "4  Bye Don t look come or think of comming back T...      1"
            ]
          },
          "metadata": {
            "tags": []
          },
          "execution_count": 18
        }
      ]
    },
    {
      "cell_type": "markdown",
      "metadata": {
        "id": "Ly2bTiIu640K"
      },
      "source": [
        "## Вывод\n",
        "Были загруженны библиотеки, проведена очистка. Так же талица разделена на 2 выборки для последующего обучения. Для таблицы *bert_df* было проведенено уменьшение выборки положительных комментариев.\n",
        "\n",
        "[К оглавлению](#К_оглавлению)\n",
        "\n",
        "---\n",
        "\n",
        "<a id='BERT'></a>\n",
        " \n",
        " ## BERT \n",
        " Загрузим модель и токенайзер. (https://jalammar.github.io/a-visual-guide-to-using-bert-for-the-first-time/)"
      ]
    },
    {
      "cell_type": "code",
      "metadata": {
        "id": "sv3wAKjeqR7O"
      },
      "source": [
        "model_class, tokenizer_class, pretrained_weights = (ppb.DistilBertModel, ppb.DistilBertTokenizer, 'distilbert-base-uncased')\n",
        "\n",
        "tokenizer = tokenizer_class.from_pretrained(pretrained_weights)\n",
        "model = model_class.from_pretrained(pretrained_weights)"
      ],
      "execution_count": 19,
      "outputs": []
    },
    {
      "cell_type": "markdown",
      "metadata": {
        "id": "sbOTGHYPbHc_"
      },
      "source": [
        "Токенезируем текст и обрежем максимальную длину предложения для корректной работы **BERT**"
      ]
    },
    {
      "cell_type": "code",
      "metadata": {
        "id": "-ssk1F8fqjjs"
      },
      "source": [
        "tokenized = bert_df['text'].apply((lambda x: tokenizer.encode(x[:511], add_special_tokens=True)))"
      ],
      "execution_count": 20,
      "outputs": []
    },
    {
      "cell_type": "code",
      "metadata": {
        "id": "39ih23DBWlqY",
        "colab": {
          "base_uri": "https://localhost:8080/"
        },
        "outputId": "19941a3e-cc31-4eb0-e4ce-c2d0fc20f34d"
      },
      "source": [
        "tokenized"
      ],
      "execution_count": 21,
      "outputs": [
        {
          "output_type": "execute_result",
          "data": {
            "text/plain": [
              "0        [101, 7526, 2339, 1996, 10086, 2015, 2081, 210...\n",
              "1        [101, 2017, 2909, 2024, 2026, 5394, 2151, 3382...\n",
              "2        [101, 10338, 6342, 9102, 2077, 2017, 18138, 21...\n",
              "3        [101, 4931, 2054, 2003, 2009, 2831, 2054, 2003...\n",
              "4        [101, 9061, 2123, 1056, 2298, 2272, 2030, 2228...\n",
              "                               ...                        \n",
              "31988    [101, 1998, 1045, 1049, 2183, 2000, 2562, 1473...\n",
              "31989    [101, 2009, 2003, 2026, 5448, 2008, 2008, 6433...\n",
              "31990    [101, 9260, 1997, 3720, 2302, 10465, 8208, 199...\n",
              "31991    [101, 2053, 2002, 2106, 2025, 3191, 2009, 2153...\n",
              "31992    [101, 1998, 2005, 1996, 2117, 2051, 1997, 4851...\n",
              "Name: text, Length: 31993, dtype: object"
            ]
          },
          "metadata": {
            "tags": []
          },
          "execution_count": 21
        }
      ]
    },
    {
      "cell_type": "markdown",
      "metadata": {
        "id": "PVRxxsfTwdDQ"
      },
      "source": [
        "Применим метод *padding* для равной длины текстов и создадим маску."
      ]
    },
    {
      "cell_type": "code",
      "metadata": {
        "id": "BmjKllEZGFPI"
      },
      "source": [
        "max_len = 0\n",
        "for i in tokenized.values:\n",
        "    if len(i) > max_len:\n",
        "        max_len = len(i)\n",
        "\n",
        "padded = np.array([i + [0]*(max_len-len(i)) for i in tokenized.values])"
      ],
      "execution_count": 22,
      "outputs": []
    },
    {
      "cell_type": "code",
      "metadata": {
        "id": "rLrVu7KiLPx1"
      },
      "source": [
        "attention_mask = np.where(padded != 0, 1, 0)"
      ],
      "execution_count": 23,
      "outputs": []
    },
    {
      "cell_type": "code",
      "metadata": {
        "id": "G1S61f2bM8Fz",
        "colab": {
          "base_uri": "https://localhost:8080/"
        },
        "outputId": "882ca29f-796f-4bf6-b0d4-e14bd1182ef6"
      },
      "source": [
        "padded.shape"
      ],
      "execution_count": 24,
      "outputs": [
        {
          "output_type": "execute_result",
          "data": {
            "text/plain": [
              "(31993, 277)"
            ]
          },
          "metadata": {
            "tags": []
          },
          "execution_count": 24
        }
      ]
    },
    {
      "cell_type": "markdown",
      "metadata": {
        "id": "nuXB5TFnxEiu"
      },
      "source": [
        "Преобразуем а эмбеддинги. Для скорости я буду использовать GPU. Для этого мне понадобится **torch.cuda.LongTensor**."
      ]
    },
    {
      "cell_type": "code",
      "metadata": {
        "id": "4X7fc2qCr2Nc",
        "colab": {
          "base_uri": "https://localhost:8080/",
          "height": 66,
          "referenced_widgets": [
            "c9db17d9cf9a421d959f64d03b58d02f",
            "be1d0594820a40028901f8ee91b9f28c",
            "bf8475954904413cb9e14f4cb676c49d",
            "29716a38afd3421594828b38c0611f08",
            "7af2d87a450249a285a94a5aaa37c151",
            "e32708d643ba41d1ae76ec01229d47e8",
            "8279e4b5c9f54eada9a518a35e1ed17e",
            "6ae7434959364a7eadffc467a49b2786"
          ]
        },
        "outputId": "b4b04b88-0da2-4f36-e338-cdfc4bade65e"
      },
      "source": [
        "model = model.cuda()\n",
        "batch_size = 10\n",
        "embeddings = []\n",
        "\n",
        "for i in notebook.tqdm(range(padded.shape[0] // batch_size)):\n",
        "    batch = torch.cuda.LongTensor(padded[batch_size*i:batch_size*(i+1)])\n",
        "    attention_mask_batch = torch.cuda.LongTensor(attention_mask[batch_size*i:batch_size*(i+1)])\n",
        "\n",
        "    with torch.no_grad():\n",
        "        batch_embeddings = model(batch, attention_mask=attention_mask_batch)\n",
        "\n",
        "    embeddings.append(batch_embeddings[0][:,0,:].cpu().numpy()) "
      ],
      "execution_count": 25,
      "outputs": [
        {
          "output_type": "display_data",
          "data": {
            "application/vnd.jupyter.widget-view+json": {
              "model_id": "c9db17d9cf9a421d959f64d03b58d02f",
              "version_minor": 0,
              "version_major": 2
            },
            "text/plain": [
              "HBox(children=(FloatProgress(value=0.0, max=3199.0), HTML(value='')))"
            ]
          },
          "metadata": {
            "tags": []
          }
        },
        {
          "output_type": "stream",
          "text": [
            "\n"
          ],
          "name": "stdout"
        }
      ]
    },
    {
      "cell_type": "markdown",
      "metadata": {
        "id": "NEaBIOppxvL-"
      },
      "source": [
        "## Вывод\n",
        "Был загружен **BERT**, данные токенезированны, а после преобразованны в эмбеддинги.\n",
        "\n",
        "[К оглавлению](#К_оглавлению)\n",
        "\n",
        "---\n",
        "\n",
        "<a id='#Загрузка_и_обучение_моделей'></a>\n",
        "## Загрузка и обучение моделей\n",
        "\n",
        "Разделим таблицу изначально на фичи и таргет, а потом на тренировочную и тестовую выборки."
      ]
    },
    {
      "cell_type": "code",
      "metadata": {
        "id": "efYwlQk7B-vR"
      },
      "source": [
        "features = np.concatenate(embeddings)\n",
        "target = bert_df['toxic'].iloc[0:31990]"
      ],
      "execution_count": 26,
      "outputs": []
    },
    {
      "cell_type": "code",
      "metadata": {
        "id": "j6Dp6pV7NxFm"
      },
      "source": [
        "X_train, X_test, y_train, y_test = train_test_split(features, target, random_state=42, test_size=0.3)"
      ],
      "execution_count": 27,
      "outputs": []
    },
    {
      "cell_type": "markdown",
      "metadata": {
        "id": "4VgWgGCAyB_b"
      },
      "source": [
        "Обучим **LogisticRegression**."
      ]
    },
    {
      "cell_type": "code",
      "metadata": {
        "id": "zcjsHcwuwpBI"
      },
      "source": [
        "param_grid_reg = {\n",
        "    'solver':['liblinear'],\n",
        "    'penalty':['l1'],\n",
        "    'C':[1,0.9],\n",
        "    'random_state':[42]\n",
        "}"
      ],
      "execution_count": 28,
      "outputs": []
    },
    {
      "cell_type": "code",
      "metadata": {
        "colab": {
          "base_uri": "https://localhost:8080/"
        },
        "id": "ozRflq873HWd",
        "outputId": "a585ae4e-fc37-44ac-8a67-734e33fefd6d"
      },
      "source": [
        "reg_model = LogisticRegression()\n",
        "grid_reg = GridSearchCV(estimator=reg_model, param_grid=param_grid_reg, scoring='f1', cv=2)\n",
        "grid_reg.fit(X_train, y_train)"
      ],
      "execution_count": 29,
      "outputs": [
        {
          "output_type": "execute_result",
          "data": {
            "text/plain": [
              "GridSearchCV(cv=2, error_score=nan,\n",
              "             estimator=LogisticRegression(C=1.0, class_weight=None, dual=False,\n",
              "                                          fit_intercept=True,\n",
              "                                          intercept_scaling=1, l1_ratio=None,\n",
              "                                          max_iter=100, multi_class='auto',\n",
              "                                          n_jobs=None, penalty='l2',\n",
              "                                          random_state=None, solver='lbfgs',\n",
              "                                          tol=0.0001, verbose=0,\n",
              "                                          warm_start=False),\n",
              "             iid='deprecated', n_jobs=None,\n",
              "             param_grid={'C': [1, 0.9], 'penalty': ['l1'], 'random_state': [42],\n",
              "                         'solver': ['liblinear']},\n",
              "             pre_dispatch='2*n_jobs', refit=True, return_train_score=False,\n",
              "             scoring='f1', verbose=0)"
            ]
          },
          "metadata": {
            "tags": []
          },
          "execution_count": 29
        }
      ]
    },
    {
      "cell_type": "code",
      "metadata": {
        "id": "qW4phiatOTvb"
      },
      "source": [
        "reg_pred = grid_reg.predict(X_test)"
      ],
      "execution_count": 30,
      "outputs": []
    },
    {
      "cell_type": "markdown",
      "metadata": {
        "id": "ArSMRbD9tYbe"
      },
      "source": [
        "Так же обучим **LGBMClassifier**."
      ]
    },
    {
      "cell_type": "code",
      "metadata": {
        "id": "vnjnLvWFxqrG"
      },
      "source": [
        "param_grid_lgbm = {\n",
        "    'num_leaves': [30, 50],\n",
        "    'n_estimators': [120, 150],\n",
        "    'metric': ['f1'],\n",
        "    'random_state':[42]\n",
        "}"
      ],
      "execution_count": 31,
      "outputs": []
    },
    {
      "cell_type": "code",
      "metadata": {
        "id": "EdbWy2S0dT13",
        "colab": {
          "base_uri": "https://localhost:8080/"
        },
        "outputId": "496095c3-15d7-46a9-83b6-695fce20b106"
      },
      "source": [
        "ligt_model = lgb.LGBMClassifier()\n",
        "grid_reg = GridSearchCV(estimator=ligt_model, param_grid=param_grid_lgbm, scoring='f1', cv=2)\n",
        "ligt_model.fit(X_train, y_train)"
      ],
      "execution_count": 32,
      "outputs": [
        {
          "output_type": "execute_result",
          "data": {
            "text/plain": [
              "LGBMClassifier(boosting_type='gbdt', class_weight=None, colsample_bytree=1.0,\n",
              "               importance_type='split', learning_rate=0.1, max_depth=-1,\n",
              "               min_child_samples=20, min_child_weight=0.001, min_split_gain=0.0,\n",
              "               n_estimators=100, n_jobs=-1, num_leaves=31, objective=None,\n",
              "               random_state=None, reg_alpha=0.0, reg_lambda=0.0, silent=True,\n",
              "               subsample=1.0, subsample_for_bin=200000, subsample_freq=0)"
            ]
          },
          "metadata": {
            "tags": []
          },
          "execution_count": 32
        }
      ]
    },
    {
      "cell_type": "code",
      "metadata": {
        "id": "UxuUE1y4eAfR"
      },
      "source": [
        "light_pred = ligt_model.predict(X_test)"
      ],
      "execution_count": 33,
      "outputs": []
    },
    {
      "cell_type": "markdown",
      "metadata": {
        "id": "Qwdr8QVrynvf"
      },
      "source": [
        "<a id='Обучение_на_CatboostClassifier'></a>\n",
        "Так же для сравнения обучим __CatBoostClassifier__ на непреобразованной таблице и проверим результат."
      ]
    },
    {
      "cell_type": "code",
      "metadata": {
        "id": "J0H32nsCQVkc"
      },
      "source": [
        "train_tf = bert_df.sample(frac=0.8,random_state=42).copy()\n",
        "valid_tf = bert_df[~bert_df.index.isin(train_tf.index)].copy()"
      ],
      "execution_count": 34,
      "outputs": []
    },
    {
      "cell_type": "code",
      "metadata": {
        "id": "dAU2qnq7Q7au",
        "colab": {
          "base_uri": "https://localhost:8080/"
        },
        "outputId": "12868e47-6181-495b-8f37-855bf03be56f"
      },
      "source": [
        "c_model = CatBoostClassifier(verbose=300,\n",
        "                           early_stopping_rounds=200, eval_metric='F1', task_type='GPU', random_state=42)\n",
        "\n",
        "c_model.fit(train_tf[['text']],train_tf[['toxic']],\n",
        "          eval_set=(valid_tf[['text']],valid_tf[['toxic']]),\n",
        "          text_features=['text'])"
      ],
      "execution_count": 35,
      "outputs": [
        {
          "output_type": "stream",
          "text": [
            "Learning rate set to 0.054055\n",
            "0:\tlearn: 0.8642275\ttest: 0.8669105\tbest: 0.8669105 (0)\ttotal: 84.5ms\tremaining: 1m 24s\n",
            "300:\tlearn: 0.9089975\ttest: 0.8979147\tbest: 0.8979147 (300)\ttotal: 18.7s\tremaining: 43.4s\n",
            "600:\tlearn: 0.9166437\ttest: 0.8999380\tbest: 0.9005884 (587)\ttotal: 36.2s\tremaining: 24s\n",
            "900:\tlearn: 0.9228055\ttest: 0.9025371\tbest: 0.9029562 (891)\ttotal: 53.5s\tremaining: 5.88s\n",
            "999:\tlearn: 0.9240779\ttest: 0.9028766\tbest: 0.9033555 (966)\ttotal: 59.2s\tremaining: 0us\n",
            "bestTest = 0.9033554971\n",
            "bestIteration = 966\n",
            "Shrink model to first 967 iterations.\n"
          ],
          "name": "stdout"
        },
        {
          "output_type": "execute_result",
          "data": {
            "text/plain": [
              "<catboost.core.CatBoostClassifier at 0x7fe57f70fe10>"
            ]
          },
          "metadata": {
            "tags": []
          },
          "execution_count": 35
        }
      ]
    },
    {
      "cell_type": "code",
      "metadata": {
        "id": "KwGzNTa_xZhl",
        "colab": {
          "base_uri": "https://localhost:8080/"
        },
        "outputId": "8a8d66c8-7a79-4e51-a83d-621d87d14f83"
      },
      "source": [
        "c_model.best_score_"
      ],
      "execution_count": 36,
      "outputs": [
        {
          "output_type": "execute_result",
          "data": {
            "text/plain": [
              "{'learn': {'F1': 0.9240779210598518, 'Logloss': 0.19360948702576775},\n",
              " 'validation': {'F1': 0.9033554971393227, 'Logloss': 0.24245571512638694}}"
            ]
          },
          "metadata": {
            "tags": []
          },
          "execution_count": 36
        }
      ]
    },
    {
      "cell_type": "code",
      "metadata": {
        "colab": {
          "base_uri": "https://localhost:8080/",
          "height": 137
        },
        "id": "2H_oot2LviFd",
        "outputId": "7189e13b-4ac0-4eb3-cf77-7c6e1d595964"
      },
      "source": [
        "pd.DataFrame({'F1_score':[f1_score(y_test,reg_pred), f1_score(y_test, light_pred), ' 0.903355']},\n",
        "             index=['LogisticRegression', 'LGBMClassifier', 'CatBoostClassifier'])"
      ],
      "execution_count": 37,
      "outputs": [
        {
          "output_type": "execute_result",
          "data": {
            "text/html": [
              "<div>\n",
              "<style scoped>\n",
              "    .dataframe tbody tr th:only-of-type {\n",
              "        vertical-align: middle;\n",
              "    }\n",
              "\n",
              "    .dataframe tbody tr th {\n",
              "        vertical-align: top;\n",
              "    }\n",
              "\n",
              "    .dataframe thead th {\n",
              "        text-align: right;\n",
              "    }\n",
              "</style>\n",
              "<table border=\"1\" class=\"dataframe\">\n",
              "  <thead>\n",
              "    <tr style=\"text-align: right;\">\n",
              "      <th></th>\n",
              "      <th>F1_score</th>\n",
              "    </tr>\n",
              "  </thead>\n",
              "  <tbody>\n",
              "    <tr>\n",
              "      <th>LogisticRegression</th>\n",
              "      <td>0.897892</td>\n",
              "    </tr>\n",
              "    <tr>\n",
              "      <th>LGBMClassifier</th>\n",
              "      <td>0.887305</td>\n",
              "    </tr>\n",
              "    <tr>\n",
              "      <th>CatBoostClassifier</th>\n",
              "      <td>0.903355</td>\n",
              "    </tr>\n",
              "  </tbody>\n",
              "</table>\n",
              "</div>"
            ],
            "text/plain": [
              "                     F1_score\n",
              "LogisticRegression   0.897892\n",
              "LGBMClassifier       0.887305\n",
              "CatBoostClassifier   0.903355"
            ]
          },
          "metadata": {
            "tags": []
          },
          "execution_count": 37
        }
      ]
    },
    {
      "cell_type": "markdown",
      "metadata": {
        "id": "wHGeteTt_Osb"
      },
      "source": [
        "## Вывод \n",
        "В исследовании было проведено исследования 2х подходов катикорезации комментариев. Модель **BERT** достаточно ресурсозаатратна, но дает хорошие результаты. В то же время **CatBoostClassifier** при меньших затратах времени и кода дает такой же результат. При работе с небольшим объемом данных я бы использовал **CatBoost**.\n",
        "\n",
        "[К оглавлению](#К_оглавлению)"
      ]
    }
  ]
}